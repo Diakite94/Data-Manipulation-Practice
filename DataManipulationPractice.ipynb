{
 "cells": [
  {
   "cell_type": "markdown",
   "metadata": {},
   "source": [
    "# Lamine Diakite\n",
    "# 10/23/2020"
   ]
  },
  {
   "cell_type": "markdown",
   "metadata": {},
   "source": [
    "### import modules"
   ]
  },
  {
   "cell_type": "code",
   "execution_count": null,
   "metadata": {},
   "outputs": [],
   "source": [
    "import pandas as pd\n",
    "import numpy as np\n",
    "\n",
    "import matplotlib\n",
    "import matplotlib.pyplot as plt\n",
    "from matplotlib import style \n",
    "%matplotlib inline \n",
    "\n",
    "import seaborn as sns"
   ]
  },
  {
   "cell_type": "markdown",
   "metadata": {},
   "source": [
    "### Load dataset"
   ]
  },
  {
   "cell_type": "code",
   "execution_count": null,
   "metadata": {},
   "outputs": [],
   "source": [
    "shapes_df = pd.read_csv(r'C:/Users/Lamine Diakite/Desktop/Analyst_Coding_Test.csv')\n",
    "shapes_df1 = shapes_df.copy()  # a copy of shapes_df to be used later to create pivot tables\n",
    "shapes_df.head(2)"
   ]
  },
  {
   "cell_type": "code",
   "execution_count": null,
   "metadata": {},
   "outputs": [],
   "source": [
    "os.getcwd()"
   ]
  },
  {
   "cell_type": "code",
   "execution_count": null,
   "metadata": {},
   "outputs": [],
   "source": [
    "import os\n",
    "\n",
    "os.listdir('.')"
   ]
  },
  {
   "cell_type": "code",
   "execution_count": null,
   "metadata": {},
   "outputs": [],
   "source": [
    "path= 'C:/Users/Lamine Diakite/Desktop/Analyst_Coding_Test.csv'\n",
    "\n",
    "with open(path,'r') as f:\n",
    "    print(f.read())\n",
    "    \n",
    "print(f)"
   ]
  },
  {
   "cell_type": "markdown",
   "metadata": {},
   "source": [
    "### Preprocessing "
   ]
  },
  {
   "cell_type": "code",
   "execution_count": 1750,
   "metadata": {},
   "outputs": [
    {
     "data": {
      "text/html": [
       "<div>\n",
       "<style scoped>\n",
       "    .dataframe tbody tr th:only-of-type {\n",
       "        vertical-align: middle;\n",
       "    }\n",
       "\n",
       "    .dataframe tbody tr th {\n",
       "        vertical-align: top;\n",
       "    }\n",
       "\n",
       "    .dataframe thead tr th {\n",
       "        text-align: left;\n",
       "    }\n",
       "\n",
       "    .dataframe thead tr:last-of-type th {\n",
       "        text-align: right;\n",
       "    }\n",
       "</style>\n",
       "<table border=\"1\" class=\"dataframe\">\n",
       "  <thead>\n",
       "    <tr>\n",
       "      <th></th>\n",
       "      <th></th>\n",
       "      <th colspan=\"8\" halign=\"left\">area</th>\n",
       "    </tr>\n",
       "    <tr>\n",
       "      <th></th>\n",
       "      <th></th>\n",
       "      <th>count</th>\n",
       "      <th>mean</th>\n",
       "      <th>std</th>\n",
       "      <th>min</th>\n",
       "      <th>25%</th>\n",
       "      <th>50%</th>\n",
       "      <th>75%</th>\n",
       "      <th>max</th>\n",
       "    </tr>\n",
       "    <tr>\n",
       "      <th>shape</th>\n",
       "      <th>color</th>\n",
       "      <th></th>\n",
       "      <th></th>\n",
       "      <th></th>\n",
       "      <th></th>\n",
       "      <th></th>\n",
       "      <th></th>\n",
       "      <th></th>\n",
       "      <th></th>\n",
       "    </tr>\n",
       "  </thead>\n",
       "  <tbody>\n",
       "    <tr>\n",
       "      <th rowspan=\"4\" valign=\"top\">circle</th>\n",
       "      <th>blue</th>\n",
       "      <td>9.0</td>\n",
       "      <td>8740.600000</td>\n",
       "      <td>7690.067899</td>\n",
       "      <td>452.4</td>\n",
       "      <td>3217.000</td>\n",
       "      <td>7238.20</td>\n",
       "      <td>13273.200</td>\n",
       "      <td>21642.4</td>\n",
       "    </tr>\n",
       "    <tr>\n",
       "      <th>green</th>\n",
       "      <td>31.0</td>\n",
       "      <td>10489.977419</td>\n",
       "      <td>8192.054483</td>\n",
       "      <td>380.1</td>\n",
       "      <td>3681.950</td>\n",
       "      <td>9852.00</td>\n",
       "      <td>16972.450</td>\n",
       "      <td>27759.1</td>\n",
       "    </tr>\n",
       "    <tr>\n",
       "      <th>red</th>\n",
       "      <td>30.0</td>\n",
       "      <td>12871.420000</td>\n",
       "      <td>10671.755438</td>\n",
       "      <td>78.5</td>\n",
       "      <td>2507.775</td>\n",
       "      <td>12469.00</td>\n",
       "      <td>22968.175</td>\n",
       "      <td>31415.9</td>\n",
       "    </tr>\n",
       "    <tr>\n",
       "      <th>yellow</th>\n",
       "      <td>50.0</td>\n",
       "      <td>9888.412000</td>\n",
       "      <td>9226.523708</td>\n",
       "      <td>28.3</td>\n",
       "      <td>2165.325</td>\n",
       "      <td>6799.95</td>\n",
       "      <td>17212.825</td>\n",
       "      <td>31415.9</td>\n",
       "    </tr>\n",
       "    <tr>\n",
       "      <th rowspan=\"4\" valign=\"top\">square</th>\n",
       "      <th>blue</th>\n",
       "      <td>152.0</td>\n",
       "      <td>3857.993421</td>\n",
       "      <td>3073.266294</td>\n",
       "      <td>1.0</td>\n",
       "      <td>900.000</td>\n",
       "      <td>3080.50</td>\n",
       "      <td>6440.250</td>\n",
       "      <td>9801.0</td>\n",
       "    </tr>\n",
       "    <tr>\n",
       "      <th>green</th>\n",
       "      <td>47.0</td>\n",
       "      <td>2642.085106</td>\n",
       "      <td>2500.661155</td>\n",
       "      <td>1.0</td>\n",
       "      <td>401.000</td>\n",
       "      <td>1764.00</td>\n",
       "      <td>4226.000</td>\n",
       "      <td>9025.0</td>\n",
       "    </tr>\n",
       "    <tr>\n",
       "      <th>red</th>\n",
       "      <td>56.0</td>\n",
       "      <td>3154.017857</td>\n",
       "      <td>3083.168880</td>\n",
       "      <td>4.0</td>\n",
       "      <td>625.000</td>\n",
       "      <td>1849.00</td>\n",
       "      <td>5551.000</td>\n",
       "      <td>9801.0</td>\n",
       "    </tr>\n",
       "    <tr>\n",
       "      <th>yellow</th>\n",
       "      <td>222.0</td>\n",
       "      <td>3333.207207</td>\n",
       "      <td>2884.614921</td>\n",
       "      <td>1.0</td>\n",
       "      <td>841.000</td>\n",
       "      <td>2500.00</td>\n",
       "      <td>5439.250</td>\n",
       "      <td>9801.0</td>\n",
       "    </tr>\n",
       "    <tr>\n",
       "      <th rowspan=\"2\" valign=\"top\">triangle</th>\n",
       "      <th>blue</th>\n",
       "      <td>199.0</td>\n",
       "      <td>2461.542714</td>\n",
       "      <td>2208.959730</td>\n",
       "      <td>0.8</td>\n",
       "      <td>432.000</td>\n",
       "      <td>1950.80</td>\n",
       "      <td>4107.000</td>\n",
       "      <td>7350.8</td>\n",
       "    </tr>\n",
       "    <tr>\n",
       "      <th>red</th>\n",
       "      <td>204.0</td>\n",
       "      <td>2665.857843</td>\n",
       "      <td>2123.497559</td>\n",
       "      <td>0.8</td>\n",
       "      <td>620.100</td>\n",
       "      <td>2227.90</td>\n",
       "      <td>4332.000</td>\n",
       "      <td>7350.8</td>\n",
       "    </tr>\n",
       "  </tbody>\n",
       "</table>\n",
       "</div>"
      ],
      "text/plain": [
       "                  area                                                         \\\n",
       "                 count          mean           std    min       25%       50%   \n",
       "shape    color                                                                  \n",
       "circle   blue      9.0   8740.600000   7690.067899  452.4  3217.000   7238.20   \n",
       "         green    31.0  10489.977419   8192.054483  380.1  3681.950   9852.00   \n",
       "         red      30.0  12871.420000  10671.755438   78.5  2507.775  12469.00   \n",
       "         yellow   50.0   9888.412000   9226.523708   28.3  2165.325   6799.95   \n",
       "square   blue    152.0   3857.993421   3073.266294    1.0   900.000   3080.50   \n",
       "         green    47.0   2642.085106   2500.661155    1.0   401.000   1764.00   \n",
       "         red      56.0   3154.017857   3083.168880    4.0   625.000   1849.00   \n",
       "         yellow  222.0   3333.207207   2884.614921    1.0   841.000   2500.00   \n",
       "triangle blue    199.0   2461.542714   2208.959730    0.8   432.000   1950.80   \n",
       "         red     204.0   2665.857843   2123.497559    0.8   620.100   2227.90   \n",
       "\n",
       "                                     \n",
       "                       75%      max  \n",
       "shape    color                       \n",
       "circle   blue    13273.200  21642.4  \n",
       "         green   16972.450  27759.1  \n",
       "         red     22968.175  31415.9  \n",
       "         yellow  17212.825  31415.9  \n",
       "square   blue     6440.250   9801.0  \n",
       "         green    4226.000   9025.0  \n",
       "         red      5551.000   9801.0  \n",
       "         yellow   5439.250   9801.0  \n",
       "triangle blue     4107.000   7350.8  \n",
       "         red      4332.000   7350.8  "
      ]
     },
     "execution_count": 1750,
     "metadata": {},
     "output_type": "execute_result"
    }
   ],
   "source": [
    "# Descriptive statistics\n",
    "shapes_df.groupby(['shape','color']).describe()"
   ]
  },
  {
   "cell_type": "code",
   "execution_count": 1751,
   "metadata": {},
   "outputs": [
    {
     "name": "stdout",
     "output_type": "stream",
     "text": [
      "square      477\n",
      "triangle    403\n",
      "circle      120\n",
      "Name: shape, dtype: int64\n",
      "blue      360\n",
      "red       290\n",
      "yellow    272\n",
      "green      78\n",
      "Name: color, dtype: int64\n"
     ]
    }
   ],
   "source": [
    "# Total number of shape types and colors\n",
    "print(shapes_df['shape'].value_counts())\n",
    "print(shapes_df['color'].value_counts())"
   ]
  },
  {
   "cell_type": "markdown",
   "metadata": {},
   "source": [
    "## Question 1: Barplot of Area size distribution"
   ]
  },
  {
   "cell_type": "code",
   "execution_count": 1752,
   "metadata": {},
   "outputs": [
    {
     "data": {
      "image/png": "[encoded data removed]",
      "text/plain": [
       "<Figure size 864x720 with 1 Axes>"
      ]
     },
     "metadata": {
      "needs_background": "light"
     },
     "output_type": "display_data"
    }
   ],
   "source": [
    "fig, ax = plt.subplots(figsize = (12,10))\n",
    "sns.boxplot(x = shapes_df['shape'], y = shapes_df['area'])\n",
    "plt.title(\"Area size Distribution\",fontsize=20)\n",
    "plt.ylabel(\"Area\",fontsize=15)\n",
    "plt.xlabel(\"Shapes\",fontsize=15)\n",
    "#plt.setp(ax.get_xticklabels(), rotation=25)\n",
    "plt.show()"
   ]
  },
  {
   "cell_type": "markdown",
   "metadata": {},
   "source": [
    "## Question 2: Mean, Max, and Standard deviation of Area size of each color"
   ]
  },
  {
   "cell_type": "code",
   "execution_count": 1753,
   "metadata": {},
   "outputs": [
    {
     "data": {
      "text/html": [
       "<div>\n",
       "<style scoped>\n",
       "    .dataframe tbody tr th:only-of-type {\n",
       "        vertical-align: middle;\n",
       "    }\n",
       "\n",
       "    .dataframe tbody tr th {\n",
       "        vertical-align: top;\n",
       "    }\n",
       "\n",
       "    .dataframe thead tr th {\n",
       "        text-align: left;\n",
       "    }\n",
       "\n",
       "    .dataframe thead tr:last-of-type th {\n",
       "        text-align: right;\n",
       "    }\n",
       "</style>\n",
       "<table border=\"1\" class=\"dataframe\">\n",
       "  <thead>\n",
       "    <tr>\n",
       "      <th></th>\n",
       "      <th colspan=\"3\" halign=\"left\">area</th>\n",
       "    </tr>\n",
       "    <tr>\n",
       "      <th></th>\n",
       "      <th>mean</th>\n",
       "      <th>max</th>\n",
       "      <th>std</th>\n",
       "    </tr>\n",
       "    <tr>\n",
       "      <th>color</th>\n",
       "      <th></th>\n",
       "      <th></th>\n",
       "      <th></th>\n",
       "    </tr>\n",
       "  </thead>\n",
       "  <tbody>\n",
       "    <tr>\n",
       "      <th>blue</th>\n",
       "      <td>3208.13</td>\n",
       "      <td>21642.4</td>\n",
       "      <td>3039.21</td>\n",
       "    </tr>\n",
       "    <tr>\n",
       "      <th>green</th>\n",
       "      <td>5761.12</td>\n",
       "      <td>27759.1</td>\n",
       "      <td>6695.03</td>\n",
       "    </tr>\n",
       "    <tr>\n",
       "      <th>red</th>\n",
       "      <td>3815.87</td>\n",
       "      <td>31415.9</td>\n",
       "      <td>5092.68</td>\n",
       "    </tr>\n",
       "    <tr>\n",
       "      <th>yellow</th>\n",
       "      <td>4538.21</td>\n",
       "      <td>31415.9</td>\n",
       "      <td>5352.46</td>\n",
       "    </tr>\n",
       "  </tbody>\n",
       "</table>\n",
       "</div>"
      ],
      "text/plain": [
       "           area                  \n",
       "           mean      max      std\n",
       "color                            \n",
       "blue    3208.13  21642.4  3039.21\n",
       "green   5761.12  27759.1  6695.03\n",
       "red     3815.87  31415.9  5092.68\n",
       "yellow  4538.21  31415.9  5352.46"
      ]
     },
     "execution_count": 1753,
     "metadata": {},
     "output_type": "execute_result"
    }
   ],
   "source": [
    "shapes_df.groupby('color').agg([\"mean\",\"max\",\"std\"]).round(2)"
   ]
  },
  {
   "cell_type": "markdown",
   "metadata": {},
   "source": [
    "## Question 3: Average Area Size of a Yellow Square is 3333"
   ]
  },
  {
   "cell_type": "code",
   "execution_count": 1754,
   "metadata": {},
   "outputs": [
    {
     "data": {
      "text/plain": [
       "3333.21"
      ]
     },
     "execution_count": 1754,
     "metadata": {},
     "output_type": "execute_result"
    }
   ],
   "source": [
    "shapes_df[(shapes_df['color']==\"yellow\") & (shapes_df['shape']==\"square\") ].mean()['area'].round(2)"
   ]
  },
  {
   "cell_type": "markdown",
   "metadata": {},
   "source": [
    "## Question 4: Shape most likely to be green is a Square"
   ]
  },
  {
   "cell_type": "markdown",
   "metadata": {},
   "source": [
    "#### Create a pivot table using our copied version, shapes_df1, to help us answer the question"
   ]
  },
  {
   "cell_type": "code",
   "execution_count": 1755,
   "metadata": {},
   "outputs": [],
   "source": [
    "# First add a count column to make building pivot table easier\n",
    "shapes_df1['Count']= 1"
   ]
  },
  {
   "cell_type": "code",
   "execution_count": 1756,
   "metadata": {},
   "outputs": [
    {
     "data": {
      "text/html": [
       "<div>\n",
       "<style scoped>\n",
       "    .dataframe tbody tr th:only-of-type {\n",
       "        vertical-align: middle;\n",
       "    }\n",
       "\n",
       "    .dataframe tbody tr th {\n",
       "        vertical-align: top;\n",
       "    }\n",
       "\n",
       "    .dataframe thead th {\n",
       "        text-align: right;\n",
       "    }\n",
       "</style>\n",
       "<table border=\"1\" class=\"dataframe\">\n",
       "  <thead>\n",
       "    <tr style=\"text-align: right;\">\n",
       "      <th></th>\n",
       "      <th>shape</th>\n",
       "      <th>color</th>\n",
       "      <th>area</th>\n",
       "      <th>Count</th>\n",
       "    </tr>\n",
       "  </thead>\n",
       "  <tbody>\n",
       "    <tr>\n",
       "      <th>0</th>\n",
       "      <td>square</td>\n",
       "      <td>yellow</td>\n",
       "      <td>9409.0</td>\n",
       "      <td>1</td>\n",
       "    </tr>\n",
       "  </tbody>\n",
       "</table>\n",
       "</div>"
      ],
      "text/plain": [
       "    shape   color    area  Count\n",
       "0  square  yellow  9409.0      1"
      ]
     },
     "execution_count": 1756,
     "metadata": {},
     "output_type": "execute_result"
    }
   ],
   "source": [
    "shapes_df1.head(1)"
   ]
  },
  {
   "cell_type": "code",
   "execution_count": 1757,
   "metadata": {},
   "outputs": [
    {
     "data": {
      "text/html": [
       "<div>\n",
       "<style scoped>\n",
       "    .dataframe tbody tr th:only-of-type {\n",
       "        vertical-align: middle;\n",
       "    }\n",
       "\n",
       "    .dataframe tbody tr th {\n",
       "        vertical-align: top;\n",
       "    }\n",
       "\n",
       "    .dataframe thead th {\n",
       "        text-align: right;\n",
       "    }\n",
       "</style>\n",
       "<table border=\"1\" class=\"dataframe\">\n",
       "  <thead>\n",
       "    <tr style=\"text-align: right;\">\n",
       "      <th>shape</th>\n",
       "      <th>circle</th>\n",
       "      <th>square</th>\n",
       "      <th>triangle</th>\n",
       "    </tr>\n",
       "    <tr>\n",
       "      <th>color</th>\n",
       "      <th></th>\n",
       "      <th></th>\n",
       "      <th></th>\n",
       "    </tr>\n",
       "  </thead>\n",
       "  <tbody>\n",
       "    <tr>\n",
       "      <th>blue</th>\n",
       "      <td>9</td>\n",
       "      <td>152</td>\n",
       "      <td>199</td>\n",
       "    </tr>\n",
       "    <tr>\n",
       "      <th>green</th>\n",
       "      <td>31</td>\n",
       "      <td>47</td>\n",
       "      <td>0</td>\n",
       "    </tr>\n",
       "    <tr>\n",
       "      <th>red</th>\n",
       "      <td>30</td>\n",
       "      <td>56</td>\n",
       "      <td>204</td>\n",
       "    </tr>\n",
       "    <tr>\n",
       "      <th>yellow</th>\n",
       "      <td>50</td>\n",
       "      <td>222</td>\n",
       "      <td>0</td>\n",
       "    </tr>\n",
       "  </tbody>\n",
       "</table>\n",
       "</div>"
      ],
      "text/plain": [
       "shape   circle  square  triangle\n",
       "color                           \n",
       "blue         9     152       199\n",
       "green       31      47         0\n",
       "red         30      56       204\n",
       "yellow      50     222         0"
      ]
     },
     "execution_count": 1757,
     "metadata": {},
     "output_type": "execute_result"
    }
   ],
   "source": [
    "pivot_table1 = shapes_df1.pivot_table(index=['color'],columns=['shape'],values=['Count'],aggfunc=np.sum,fill_value=0)\n",
    "pivot_table1['Count']"
   ]
  },
  {
   "cell_type": "markdown",
   "metadata": {},
   "source": [
    "##### Divide the count of green in each shape by the total number of green among all shapes to determine the probability."
   ]
  },
  {
   "cell_type": "code",
   "execution_count": 1758,
   "metadata": {},
   "outputs": [
    {
     "name": "stdout",
     "output_type": "stream",
     "text": [
      "Percent of green circle among all shapes: 39.74 %\n"
     ]
    }
   ],
   "source": [
    "print(\"Percent of green circle among all shapes:\", round(100*31/sum(pivot_table1.loc[pd.IndexSlice['green'],pd.IndexSlice[:]]),2),'%')"
   ]
  },
  {
   "cell_type": "code",
   "execution_count": 1759,
   "metadata": {},
   "outputs": [
    {
     "name": "stdout",
     "output_type": "stream",
     "text": [
      "Percent of green square among all shapes: 60.26 %\n"
     ]
    }
   ],
   "source": [
    "print(\"Percent of green square among all shapes:\", round(100*47/sum(pivot_table1.loc[pd.IndexSlice['green'],pd.IndexSlice[:]]),2),'%')"
   ]
  },
  {
   "cell_type": "code",
   "execution_count": 1760,
   "metadata": {},
   "outputs": [
    {
     "name": "stdout",
     "output_type": "stream",
     "text": [
      "Percent of green triangle among all shapes: 0.0 %\n"
     ]
    }
   ],
   "source": [
    "print(\"Percent of green triangle among all shapes:\", round(100*0/sum(pivot_table1.loc[pd.IndexSlice['green'],pd.IndexSlice[:]].round(2)),2),'%')"
   ]
  },
  {
   "cell_type": "markdown",
   "metadata": {},
   "source": [
    "## Question 5: Given a Red color with an Area > 3000, chances of the red object being square, triangle, circle"
   ]
  },
  {
   "cell_type": "markdown",
   "metadata": {},
   "source": [
    "#### First create a subset of the shapes_df where color is red and area size > 3000"
   ]
  },
  {
   "cell_type": "code",
   "execution_count": 1761,
   "metadata": {},
   "outputs": [
    {
     "data": {
      "text/html": [
       "<div>\n",
       "<style scoped>\n",
       "    .dataframe tbody tr th:only-of-type {\n",
       "        vertical-align: middle;\n",
       "    }\n",
       "\n",
       "    .dataframe tbody tr th {\n",
       "        vertical-align: top;\n",
       "    }\n",
       "\n",
       "    .dataframe thead th {\n",
       "        text-align: right;\n",
       "    }\n",
       "</style>\n",
       "<table border=\"1\" class=\"dataframe\">\n",
       "  <thead>\n",
       "    <tr style=\"text-align: right;\">\n",
       "      <th></th>\n",
       "      <th>shape</th>\n",
       "      <th>color</th>\n",
       "      <th>area</th>\n",
       "      <th>Count</th>\n",
       "    </tr>\n",
       "  </thead>\n",
       "  <tbody>\n",
       "    <tr>\n",
       "      <th>7</th>\n",
       "      <td>triangle</td>\n",
       "      <td>red</td>\n",
       "      <td>4563.0</td>\n",
       "      <td>1</td>\n",
       "    </tr>\n",
       "    <tr>\n",
       "      <th>9</th>\n",
       "      <td>triangle</td>\n",
       "      <td>red</td>\n",
       "      <td>5043.0</td>\n",
       "      <td>1</td>\n",
       "    </tr>\n",
       "    <tr>\n",
       "      <th>24</th>\n",
       "      <td>triangle</td>\n",
       "      <td>red</td>\n",
       "      <td>3996.8</td>\n",
       "      <td>1</td>\n",
       "    </tr>\n",
       "    <tr>\n",
       "      <th>30</th>\n",
       "      <td>triangle</td>\n",
       "      <td>red</td>\n",
       "      <td>4446.8</td>\n",
       "      <td>1</td>\n",
       "    </tr>\n",
       "    <tr>\n",
       "      <th>38</th>\n",
       "      <td>square</td>\n",
       "      <td>red</td>\n",
       "      <td>5929.0</td>\n",
       "      <td>1</td>\n",
       "    </tr>\n",
       "  </tbody>\n",
       "</table>\n",
       "</div>"
      ],
      "text/plain": [
       "       shape color    area  Count\n",
       "7   triangle   red  4563.0      1\n",
       "9   triangle   red  5043.0      1\n",
       "24  triangle   red  3996.8      1\n",
       "30  triangle   red  4446.8      1\n",
       "38    square   red  5929.0      1"
      ]
     },
     "execution_count": 1761,
     "metadata": {},
     "output_type": "execute_result"
    }
   ],
   "source": [
    "reds_with_area_above_3000 = shapes_df1[(shapes_df1['color']=='red') & (shapes_df1['area']> 3000)]\n",
    "reds_with_area_above_3000.head()"
   ]
  },
  {
   "cell_type": "markdown",
   "metadata": {},
   "source": [
    "#### Then create a pivot table to capture the red counts of each shape"
   ]
  },
  {
   "cell_type": "code",
   "execution_count": 1762,
   "metadata": {},
   "outputs": [
    {
     "data": {
      "text/html": [
       "<div>\n",
       "<style scoped>\n",
       "    .dataframe tbody tr th:only-of-type {\n",
       "        vertical-align: middle;\n",
       "    }\n",
       "\n",
       "    .dataframe tbody tr th {\n",
       "        vertical-align: top;\n",
       "    }\n",
       "\n",
       "    .dataframe thead tr th {\n",
       "        text-align: left;\n",
       "    }\n",
       "\n",
       "    .dataframe thead tr:last-of-type th {\n",
       "        text-align: right;\n",
       "    }\n",
       "</style>\n",
       "<table border=\"1\" class=\"dataframe\">\n",
       "  <thead>\n",
       "    <tr>\n",
       "      <th></th>\n",
       "      <th colspan=\"3\" halign=\"left\">Count</th>\n",
       "    </tr>\n",
       "    <tr>\n",
       "      <th>shape</th>\n",
       "      <th>circle</th>\n",
       "      <th>square</th>\n",
       "      <th>triangle</th>\n",
       "    </tr>\n",
       "    <tr>\n",
       "      <th>color</th>\n",
       "      <th></th>\n",
       "      <th></th>\n",
       "      <th></th>\n",
       "    </tr>\n",
       "  </thead>\n",
       "  <tbody>\n",
       "    <tr>\n",
       "      <th>red</th>\n",
       "      <td>20</td>\n",
       "      <td>21</td>\n",
       "      <td>84</td>\n",
       "    </tr>\n",
       "  </tbody>\n",
       "</table>\n",
       "</div>"
      ],
      "text/plain": [
       "       Count                \n",
       "shape circle square triangle\n",
       "color                       \n",
       "red       20     21       84"
      ]
     },
     "execution_count": 1762,
     "metadata": {},
     "output_type": "execute_result"
    }
   ],
   "source": [
    "pivot_table2= reds_with_area_above_3000.pivot_table(index=['color'],columns=['shape'],values=['Count'],aggfunc=np.sum,fill_value=0)\n",
    "pivot_table2"
   ]
  },
  {
   "cell_type": "markdown",
   "metadata": {},
   "source": [
    "##### Divide the total red shape with area > 3000 by the total count of the respective shape in the dataset to determine the probability."
   ]
  },
  {
   "cell_type": "code",
   "execution_count": 1763,
   "metadata": {},
   "outputs": [
    {
     "name": "stdout",
     "output_type": "stream",
     "text": [
      "The chances of the red object being a circle is: 16.667 %\n"
     ]
    }
   ],
   "source": [
    "print(\"The chances of the red object being a circle is:\", round(100*20/shapes_df[shapes_df['shape']=='circle'].count()['shape'],3),'%')"
   ]
  },
  {
   "cell_type": "code",
   "execution_count": 1764,
   "metadata": {},
   "outputs": [
    {
     "name": "stdout",
     "output_type": "stream",
     "text": [
      "The chances of the red object being a square is: 4.403 %\n"
     ]
    }
   ],
   "source": [
    "print(\"The chances of the red object being a square is:\",round(100*21/shapes_df[shapes_df['shape']=='square'].count()['shape'],3),'%')"
   ]
  },
  {
   "cell_type": "code",
   "execution_count": 1765,
   "metadata": {},
   "outputs": [
    {
     "name": "stdout",
     "output_type": "stream",
     "text": [
      "The chances of the red object being a triangle is: 20.844 %\n"
     ]
    }
   ],
   "source": [
    "print(\"The chances of the red object being a triangle is:\",round(100*84/shapes_df[shapes_df['shape']=='triangle'].count()['shape'],3),'%')"
   ]
  },
  {
   "cell_type": "markdown",
   "metadata": {},
   "source": [
    "## Question 6: Function to calculate the side or radius of an object, depending on the shape and area of the object"
   ]
  },
  {
   "cell_type": "code",
   "execution_count": 1766,
   "metadata": {},
   "outputs": [
    {
     "name": "stdout",
     "output_type": "stream",
     "text": [
      "Circle: A= Pi*r^2. So the radius= sqrt(A/Pi)\n",
      "Square: A= Side*2. So the Side= sqrt(A)\n",
      "Equilateral Triangle: A= (Side ^ 2) * sqrt(3) / 4. So the Side= sqrt(4*A/sqrt(3))\n"
     ]
    }
   ],
   "source": [
    "# Important formula to note. We are also considering our triangle to be an Equilateral triangle\n",
    "print(\"Circle: A= Pi*r^2. So the radius= sqrt(A/Pi)\")\n",
    "print(\"Square: A= Side*2. So the Side= sqrt(A)\")\n",
    "print(\"Equilateral Triangle: A= (Side ^ 2) * sqrt(3) / 4. So the Side= sqrt(4*A/sqrt(3))\")"
   ]
  },
  {
   "cell_type": "code",
   "execution_count": 1767,
   "metadata": {},
   "outputs": [],
   "source": [
    "def side_or_radius(shape,area):\n",
    "    if shape==\"circle\":\n",
    "        return np.sqrt(area/np.pi).round(2)\n",
    "    elif shape==\"square\":\n",
    "        return np.sqrt(area).round(2)\n",
    "    elif shape==\"triangle\":\n",
    "        return np.sqrt(4*area/np.sqrt(3)).round(2)\n",
    "    else:\n",
    "        print(\"Choose from the three shape choices\")"
   ]
  },
  {
   "cell_type": "code",
   "execution_count": 1768,
   "metadata": {},
   "outputs": [
    {
     "name": "stdout",
     "output_type": "stream",
     "text": [
      "The radius of a circle with an Area of 16 is: 2.26\n",
      "The side of a square with an Area of 16 is: 4.0\n",
      "The side of a triangle with an Area of 16 is: 6.08\n"
     ]
    }
   ],
   "source": [
    "# Testing\n",
    "print(\"The radius of a circle with an Area of 16 is:\", side_or_radius(\"circle\",16))\n",
    "print(\"The side of a square with an Area of 16 is:\", side_or_radius(\"square\",16))\n",
    "print(\"The side of a triangle with an Area of 16 is:\", side_or_radius(\"triangle\",16))"
   ]
  },
  {
   "cell_type": "markdown",
   "metadata": {},
   "source": [
    "## Question 7: New column called Side, containing the Side or Radius of the respective Shape."
   ]
  },
  {
   "cell_type": "code",
   "execution_count": 1769,
   "metadata": {},
   "outputs": [],
   "source": [
    "shapes_df['side'] = shapes_df.apply(lambda x: side_or_radius(x['shape'], x['area']).round(0), axis=1)"
   ]
  },
  {
   "cell_type": "code",
   "execution_count": 1770,
   "metadata": {},
   "outputs": [
    {
     "data": {
      "text/html": [
       "<div>\n",
       "<style scoped>\n",
       "    .dataframe tbody tr th:only-of-type {\n",
       "        vertical-align: middle;\n",
       "    }\n",
       "\n",
       "    .dataframe tbody tr th {\n",
       "        vertical-align: top;\n",
       "    }\n",
       "\n",
       "    .dataframe thead th {\n",
       "        text-align: right;\n",
       "    }\n",
       "</style>\n",
       "<table border=\"1\" class=\"dataframe\">\n",
       "  <thead>\n",
       "    <tr style=\"text-align: right;\">\n",
       "      <th></th>\n",
       "      <th>shape</th>\n",
       "      <th>color</th>\n",
       "      <th>area</th>\n",
       "      <th>side</th>\n",
       "    </tr>\n",
       "  </thead>\n",
       "  <tbody>\n",
       "    <tr>\n",
       "      <th>0</th>\n",
       "      <td>square</td>\n",
       "      <td>yellow</td>\n",
       "      <td>9409.0</td>\n",
       "      <td>97.0</td>\n",
       "    </tr>\n",
       "    <tr>\n",
       "      <th>1</th>\n",
       "      <td>circle</td>\n",
       "      <td>yellow</td>\n",
       "      <td>4071.5</td>\n",
       "      <td>36.0</td>\n",
       "    </tr>\n",
       "  </tbody>\n",
       "</table>\n",
       "</div>"
      ],
      "text/plain": [
       "    shape   color    area  side\n",
       "0  square  yellow  9409.0  97.0\n",
       "1  circle  yellow  4071.5  36.0"
      ]
     },
     "execution_count": 1770,
     "metadata": {},
     "output_type": "execute_result"
    }
   ],
   "source": [
    "shapes_df.head(2)"
   ]
  },
  {
   "cell_type": "markdown",
   "metadata": {},
   "source": [
    "## Question 8: Boxplot showing the Side/Radius size distribution for each shape"
   ]
  },
  {
   "cell_type": "code",
   "execution_count": 1771,
   "metadata": {},
   "outputs": [
    {
     "data": {
      "image/png": "[encoded data removed]",
      "text/plain": [
       "<Figure size 720x576 with 1 Axes>"
      ]
     },
     "metadata": {
      "needs_background": "light"
     },
     "output_type": "display_data"
    }
   ],
   "source": [
    "fig, ax = plt.subplots(figsize = (10,8))\n",
    "sns.boxplot(x = shapes_df['shape'], y = shapes_df['side'])\n",
    "plt.title(\"Side/Radius size Distribution\",fontsize=20)\n",
    "plt.ylabel(\"Side/Radius Size\",fontsize=15)\n",
    "plt.xlabel(\"Shapes\", fontsize=15)\n",
    "#plt.setp(ax.get_xticklabels(), rotation=25)\n",
    "plt.show()"
   ]
  },
  {
   "cell_type": "markdown",
   "metadata": {},
   "source": [
    "#### We can infer that our data doesn't contain any outliers.\n",
    "#### We can also infer that the distribution of the side/radius of the shapes are approximately symmetric because the median is roughly in the middle.  "
   ]
  },
  {
   "cell_type": "markdown",
   "metadata": {},
   "source": [
    "## Question 9: Scatterplot of Side vs Area"
   ]
  },
  {
   "cell_type": "markdown",
   "metadata": {},
   "source": [
    "#### A pivot table to capture the red counts of each shape"
   ]
  },
  {
   "cell_type": "code",
   "execution_count": 1772,
   "metadata": {},
   "outputs": [],
   "source": [
    "shapes_df1['side'] = shapes_df.apply(lambda x: side_or_radius(x['shape'], x['area']).round(0), axis=1)\n",
    "shapes_df1['index']=np.arange(len(shapes_df1))  # to make it easier to create a pivot table"
   ]
  },
  {
   "cell_type": "code",
   "execution_count": 1773,
   "metadata": {},
   "outputs": [
    {
     "data": {
      "text/html": [
       "<div>\n",
       "<style scoped>\n",
       "    .dataframe tbody tr th:only-of-type {\n",
       "        vertical-align: middle;\n",
       "    }\n",
       "\n",
       "    .dataframe tbody tr th {\n",
       "        vertical-align: top;\n",
       "    }\n",
       "\n",
       "    .dataframe thead tr th {\n",
       "        text-align: left;\n",
       "    }\n",
       "\n",
       "    .dataframe thead tr:last-of-type th {\n",
       "        text-align: right;\n",
       "    }\n",
       "</style>\n",
       "<table border=\"1\" class=\"dataframe\">\n",
       "  <thead>\n",
       "    <tr>\n",
       "      <th></th>\n",
       "      <th colspan=\"3\" halign=\"left\">area</th>\n",
       "      <th colspan=\"3\" halign=\"left\">side</th>\n",
       "    </tr>\n",
       "    <tr>\n",
       "      <th>shape</th>\n",
       "      <th>circle</th>\n",
       "      <th>square</th>\n",
       "      <th>triangle</th>\n",
       "      <th>circle</th>\n",
       "      <th>square</th>\n",
       "      <th>triangle</th>\n",
       "    </tr>\n",
       "    <tr>\n",
       "      <th>index</th>\n",
       "      <th></th>\n",
       "      <th></th>\n",
       "      <th></th>\n",
       "      <th></th>\n",
       "      <th></th>\n",
       "      <th></th>\n",
       "    </tr>\n",
       "  </thead>\n",
       "  <tbody>\n",
       "    <tr>\n",
       "      <th>0</th>\n",
       "      <td>0.0</td>\n",
       "      <td>9409</td>\n",
       "      <td>0.0</td>\n",
       "      <td>0</td>\n",
       "      <td>97</td>\n",
       "      <td>0</td>\n",
       "    </tr>\n",
       "    <tr>\n",
       "      <th>1</th>\n",
       "      <td>4071.5</td>\n",
       "      <td>0</td>\n",
       "      <td>0.0</td>\n",
       "      <td>36</td>\n",
       "      <td>0</td>\n",
       "      <td>0</td>\n",
       "    </tr>\n",
       "    <tr>\n",
       "      <th>2</th>\n",
       "      <td>0.0</td>\n",
       "      <td>0</td>\n",
       "      <td>2028.0</td>\n",
       "      <td>0</td>\n",
       "      <td>0</td>\n",
       "      <td>68</td>\n",
       "    </tr>\n",
       "    <tr>\n",
       "      <th>3</th>\n",
       "      <td>0.0</td>\n",
       "      <td>3025</td>\n",
       "      <td>0.0</td>\n",
       "      <td>0</td>\n",
       "      <td>55</td>\n",
       "      <td>0</td>\n",
       "    </tr>\n",
       "    <tr>\n",
       "      <th>4</th>\n",
       "      <td>0.0</td>\n",
       "      <td>9216</td>\n",
       "      <td>0.0</td>\n",
       "      <td>0</td>\n",
       "      <td>96</td>\n",
       "      <td>0</td>\n",
       "    </tr>\n",
       "  </tbody>\n",
       "</table>\n",
       "</div>"
      ],
      "text/plain": [
       "         area                   side                \n",
       "shape  circle square triangle circle square triangle\n",
       "index                                               \n",
       "0         0.0   9409      0.0      0     97        0\n",
       "1      4071.5      0      0.0     36      0        0\n",
       "2         0.0      0   2028.0      0      0       68\n",
       "3         0.0   3025      0.0      0     55        0\n",
       "4         0.0   9216      0.0      0     96        0"
      ]
     },
     "execution_count": 1773,
     "metadata": {},
     "output_type": "execute_result"
    }
   ],
   "source": [
    "pivot_table3= shapes_df1.pivot_table(index=['index'],columns=['shape'],values=['side','area'],aggfunc='sum',fill_value=0)\n",
    "pivot_table3.head()"
   ]
  },
  {
   "cell_type": "code",
   "execution_count": 1774,
   "metadata": {},
   "outputs": [
    {
     "data": {
      "image/png": "[encoded data removed]",
      "text/plain": [
       "<Figure size 720x576 with 1 Axes>"
      ]
     },
     "metadata": {
      "needs_background": "light"
     },
     "output_type": "display_data"
    }
   ],
   "source": [
    "fig, ax= plt.subplots(figsize=(10,8))\n",
    "\n",
    "plt.scatter(pivot_table3['side']['circle'], pivot_table3['area']['circle'],color='red',label='Circle',alpha=1)\n",
    "plt.scatter(pivot_table3['side']['square'], pivot_table3['area']['square'],color='blue',label='Square',alpha=1)\n",
    "plt.scatter(pivot_table3['side']['triangle'], pivot_table3['area']['triangle'],color='green',label='Triangle',alpha=1)\n",
    "plt.legend(loc='upper left')\n",
    "plt.xlabel(\"Side\",fontsize = 15)\n",
    "plt.ylabel(\"Area\",fontsize = 15)\n",
    "plt.title(\"Side vs Area\", fontsize = 20)\n",
    "plt.show()"
   ]
  },
  {
   "cell_type": "markdown",
   "metadata": {},
   "source": [
    "## Question 10:"
   ]
  },
  {
   "cell_type": "markdown",
   "metadata": {},
   "source": [
    "### a) Proportion of red objects within each shape"
   ]
  },
  {
   "cell_type": "code",
   "execution_count": 1775,
   "metadata": {},
   "outputs": [],
   "source": [
    "pivot_table4= shapes_df1.pivot_table(index=['color'],columns=['shape'],values=['Count'],aggfunc=np.sum,fill_value=0)"
   ]
  },
  {
   "cell_type": "markdown",
   "metadata": {},
   "source": [
    "#### Transform the pivot table into a normal dataframe"
   ]
  },
  {
   "cell_type": "code",
   "execution_count": 1776,
   "metadata": {},
   "outputs": [
    {
     "data": {
      "text/html": [
       "<div>\n",
       "<style scoped>\n",
       "    .dataframe tbody tr th:only-of-type {\n",
       "        vertical-align: middle;\n",
       "    }\n",
       "\n",
       "    .dataframe tbody tr th {\n",
       "        vertical-align: top;\n",
       "    }\n",
       "\n",
       "    .dataframe thead th {\n",
       "        text-align: right;\n",
       "    }\n",
       "</style>\n",
       "<table border=\"1\" class=\"dataframe\">\n",
       "  <thead>\n",
       "    <tr style=\"text-align: right;\">\n",
       "      <th></th>\n",
       "      <th>color</th>\n",
       "      <th>circle</th>\n",
       "      <th>square</th>\n",
       "      <th>triangle</th>\n",
       "    </tr>\n",
       "  </thead>\n",
       "  <tbody>\n",
       "    <tr>\n",
       "      <th>0</th>\n",
       "      <td>blue</td>\n",
       "      <td>9</td>\n",
       "      <td>152</td>\n",
       "      <td>199</td>\n",
       "    </tr>\n",
       "    <tr>\n",
       "      <th>1</th>\n",
       "      <td>green</td>\n",
       "      <td>31</td>\n",
       "      <td>47</td>\n",
       "      <td>0</td>\n",
       "    </tr>\n",
       "    <tr>\n",
       "      <th>2</th>\n",
       "      <td>red</td>\n",
       "      <td>30</td>\n",
       "      <td>56</td>\n",
       "      <td>204</td>\n",
       "    </tr>\n",
       "    <tr>\n",
       "      <th>3</th>\n",
       "      <td>yellow</td>\n",
       "      <td>50</td>\n",
       "      <td>222</td>\n",
       "      <td>0</td>\n",
       "    </tr>\n",
       "  </tbody>\n",
       "</table>\n",
       "</div>"
      ],
      "text/plain": [
       "    color  circle  square  triangle\n",
       "0    blue       9     152       199\n",
       "1   green      31      47         0\n",
       "2     red      30      56       204\n",
       "3  yellow      50     222         0"
      ]
     },
     "execution_count": 1776,
     "metadata": {},
     "output_type": "execute_result"
    }
   ],
   "source": [
    "pivot_table4.columns = pivot_table4.columns.droplevel(0)\n",
    "pivot_table4 = pivot_table4.reset_index().rename_axis(None, axis=1)\n",
    "pivot_table4"
   ]
  },
  {
   "cell_type": "markdown",
   "metadata": {},
   "source": [
    "#### Dataframe of proportion of red object within each shape"
   ]
  },
  {
   "cell_type": "code",
   "execution_count": 1777,
   "metadata": {},
   "outputs": [
    {
     "name": "stdout",
     "output_type": "stream",
     "text": [
      "     circle  square  triangle\n",
      "red    0.25    0.12      0.51\n"
     ]
    }
   ],
   "source": [
    "d={}\n",
    "for i in pivot_table4.iloc[:,1:]:\n",
    "    d.update({i:(pivot_table4[i][pivot_table4.iloc[2:3,0:1].index]/ sum(pivot_table4[i])).round(2)})\n",
    "df= pd.DataFrame(d)\n",
    "df.index = ['red']\n",
    "print(df)   "
   ]
  },
  {
   "cell_type": "markdown",
   "metadata": {},
   "source": [
    "### b) Proportion of blue area over shape's total area "
   ]
  },
  {
   "cell_type": "markdown",
   "metadata": {},
   "source": [
    "#### Create another pivot table"
   ]
  },
  {
   "cell_type": "code",
   "execution_count": 1778,
   "metadata": {},
   "outputs": [],
   "source": [
    "pivot_table5 = shapes_df1.pivot_table(index=['color'],columns=['shape'],values=['area'],aggfunc='sum',fill_value=0)"
   ]
  },
  {
   "cell_type": "code",
   "execution_count": 1779,
   "metadata": {},
   "outputs": [
    {
     "data": {
      "text/html": [
       "<div>\n",
       "<style scoped>\n",
       "    .dataframe tbody tr th:only-of-type {\n",
       "        vertical-align: middle;\n",
       "    }\n",
       "\n",
       "    .dataframe tbody tr th {\n",
       "        vertical-align: top;\n",
       "    }\n",
       "\n",
       "    .dataframe thead th {\n",
       "        text-align: right;\n",
       "    }\n",
       "</style>\n",
       "<table border=\"1\" class=\"dataframe\">\n",
       "  <thead>\n",
       "    <tr style=\"text-align: right;\">\n",
       "      <th></th>\n",
       "      <th>color</th>\n",
       "      <th>circle</th>\n",
       "      <th>square</th>\n",
       "      <th>triangle</th>\n",
       "    </tr>\n",
       "  </thead>\n",
       "  <tbody>\n",
       "    <tr>\n",
       "      <th>0</th>\n",
       "      <td>blue</td>\n",
       "      <td>78665.4</td>\n",
       "      <td>586415</td>\n",
       "      <td>489847</td>\n",
       "    </tr>\n",
       "    <tr>\n",
       "      <th>1</th>\n",
       "      <td>green</td>\n",
       "      <td>325189.3</td>\n",
       "      <td>124178</td>\n",
       "      <td>0</td>\n",
       "    </tr>\n",
       "    <tr>\n",
       "      <th>2</th>\n",
       "      <td>red</td>\n",
       "      <td>386142.6</td>\n",
       "      <td>176625</td>\n",
       "      <td>543835</td>\n",
       "    </tr>\n",
       "    <tr>\n",
       "      <th>3</th>\n",
       "      <td>yellow</td>\n",
       "      <td>494420.6</td>\n",
       "      <td>739972</td>\n",
       "      <td>0</td>\n",
       "    </tr>\n",
       "  </tbody>\n",
       "</table>\n",
       "</div>"
      ],
      "text/plain": [
       "    color    circle  square  triangle\n",
       "0    blue   78665.4  586415    489847\n",
       "1   green  325189.3  124178         0\n",
       "2     red  386142.6  176625    543835\n",
       "3  yellow  494420.6  739972         0"
      ]
     },
     "execution_count": 1779,
     "metadata": {},
     "output_type": "execute_result"
    }
   ],
   "source": [
    "pivot_table5.columns = pivot_table5.columns.droplevel(0)\n",
    "pivot_table5 = pivot_table5.reset_index().rename_axis(None, axis=1)\n",
    "pivot_table5"
   ]
  },
  {
   "cell_type": "markdown",
   "metadata": {},
   "source": [
    "#### Dataframe of proportion of blue area over each shapes' total area"
   ]
  },
  {
   "cell_type": "code",
   "execution_count": 1780,
   "metadata": {},
   "outputs": [
    {
     "name": "stdout",
     "output_type": "stream",
     "text": [
      "      circle  square  triangle\n",
      "blue    0.06    0.36      0.47\n"
     ]
    }
   ],
   "source": [
    "d={}\n",
    "for i in pivot_table5.iloc[:,1:]:\n",
    "    for j in pivot_table5['color']:\n",
    "        d.update({i:(pivot_table5[i][pivot_table5['color'].index]/ sum(pivot_table5[i])).round(2)})\n",
    "df= pd.DataFrame(d)\n",
    "df.index = ['blue','green','red','yellow']\n",
    "print(df.iloc[0:1,:])   "
   ]
  },
  {
   "cell_type": "markdown",
   "metadata": {},
   "source": [
    "### Question 11: Function to calculate 10.b for given shape and color"
   ]
  },
  {
   "cell_type": "code",
   "execution_count": 1781,
   "metadata": {},
   "outputs": [],
   "source": [
    "# Set color as the index\n",
    "pivot_table5.set_index('color',inplace=True)"
   ]
  },
  {
   "cell_type": "code",
   "execution_count": 1782,
   "metadata": {},
   "outputs": [],
   "source": [
    "# Area proportion function\n",
    "def areaproportionof(color,shape):\n",
    "    dic={}\n",
    "    dic[shape]= (pivot_table5[shape][color]/ sum(pivot_table5[shape])).round(2)\n",
    "    print(pd.DataFrame(dic,index=[color]))"
   ]
  },
  {
   "cell_type": "code",
   "execution_count": 1783,
   "metadata": {},
   "outputs": [
    {
     "name": "stdout",
     "output_type": "stream",
     "text": [
      "      circle\n",
      "blue    0.06\n",
      "None\n",
      "      square\n",
      "blue    0.36\n",
      "None\n",
      "      triangle\n",
      "blue      0.47\n",
      "None\n",
      "     triangle\n",
      "red      0.53\n",
      "None\n"
     ]
    }
   ],
   "source": [
    "# Testing \n",
    "print(areaproportionof('blue','circle'))\n",
    "print(areaproportionof('blue','square'))\n",
    "print(areaproportionof('blue','triangle'))\n",
    "print(areaproportionof('red','triangle'))"
   ]
  }
 ],
 "metadata": {
  "kernelspec": {
   "display_name": "Python 3",
   "language": "python",
   "name": "python3"
  },
  "language_info": {
   "codemirror_mode": {
    "name": "ipython",
    "version": 3
   },
   "file_extension": ".py",
   "mimetype": "text/x-python",
   "name": "python",
   "nbconvert_exporter": "python",
   "pygments_lexer": "ipython3",
   "version": "3.7.6"
  }
 },
 "nbformat": 4,
 "nbformat_minor": 4
}
